{
 "cells": [
  {
   "cell_type": "markdown",
   "id": "36dc1640-8746-4fde-b9a7-d56a2e2e32bb",
   "metadata": {},
   "source": [
    "# Cluster GNN\n",
    "\n",
    "Cluster-GCN works as the following: at each step, it samples a block of nodes that associate with a dense subgraph identified by a graph clustering algorithm, and restricts the neighborhood search within this subgraph.\n",
    "\n",
    "Link : https://arxiv.org/abs/1905.07953"
   ]
  },
  {
   "cell_type": "markdown",
   "id": "c627f9ee-4618-4556-a7a4-4aba416432f3",
   "metadata": {},
   "source": [
    "## Import Libraries"
   ]
  },
  {
   "cell_type": "code",
   "execution_count": 1,
   "id": "970bce3c-1423-4426-8e47-7ba6430f1101",
   "metadata": {},
   "outputs": [],
   "source": [
    "import torch\n",
    "from torch_geometric.datasets import Planetoid\n",
    "from torch_geometric.transforms import NormalizeFeatures"
   ]
  },
  {
   "cell_type": "markdown",
   "id": "4e8aa16e-bdfa-4408-afd9-2b4206446044",
   "metadata": {},
   "source": [
    "## Util Functions"
   ]
  },
  {
   "cell_type": "code",
   "execution_count": 2,
   "id": "39e438a0-ff53-48cc-a9f4-ad7d5bc64475",
   "metadata": {},
   "outputs": [],
   "source": [
    "def data_details(dataset):\n",
    "    print()\n",
    "    print(f'Dataset: {dataset}:')\n",
    "    print('====================')\n",
    "    print(f'Number of graphs: {len(dataset)}')\n",
    "    print(f'Number of features: {dataset.num_features}')\n",
    "    print(f'Number of classes: {dataset.num_classes}')\n",
    "\n",
    "def graph_details(data):\n",
    "    print()\n",
    "    print(data)\n",
    "    print('=============================================================')\n",
    "    \n",
    "    # Gather some statistics about the first graph.\n",
    "    print(f'Number of nodes: {data.num_nodes}')\n",
    "    print(f'Number of edges: {data.num_edges}')\n",
    "    print(f'Average node degree: {data.num_edges / data.num_nodes:.2f}')\n",
    "    print(f'Has isolated nodes: {data.has_isolated_nodes()}')\n",
    "    print(f'Has self-loops: {data.has_self_loops()}')\n",
    "    print(f'Is undirected: {data.is_undirected()}')   "
   ]
  },
  {
   "cell_type": "code",
   "execution_count": 3,
   "id": "5cc05357-1cc3-4378-aada-082e08afabd3",
   "metadata": {},
   "outputs": [
    {
     "name": "stdout",
     "output_type": "stream",
     "text": [
      "\n",
      "Dataset: PubMed():\n",
      "====================\n",
      "Number of graphs: 1\n",
      "Number of features: 500\n",
      "Number of classes: 3\n",
      "\n",
      "Data(x=[19717, 500], edge_index=[2, 88648], y=[19717], train_mask=[19717], val_mask=[19717], test_mask=[19717])\n",
      "=============================================================\n",
      "Number of nodes: 19717\n",
      "Number of edges: 88648\n",
      "Average node degree: 4.50\n",
      "Has isolated nodes: False\n",
      "Has self-loops: False\n",
      "Is undirected: True\n"
     ]
    }
   ],
   "source": [
    "dataset = Planetoid(root='data/Planetoid', name='PubMed', transform=NormalizeFeatures())\n",
    "data = dataset[0]\n",
    "data_details(dataset)\n",
    "graph_details(dataset[0])"
   ]
  },
  {
   "attachments": {
    "591d82da-2c7c-421d-b81a-3c23c79937ba.png": {
     "image/png": "[encoded data removed]"
    },
    "c7c46386-c9b8-4f2b-9080-2e795745735f.png": {
     "image/png": "[encoded data removed]"
    }
   },
   "cell_type": "markdown",
   "id": "f403ce27-b74b-4bc4-95a8-eb559608a968",
   "metadata": {},
   "source": [
    "![image.png](attachment:c7c46386-c9b8-4f2b-9080-2e795745735f.png)![image.png](attachment:591d82da-2c7c-421d-b81a-3c23c79937ba.png)"
   ]
  },
  {
   "cell_type": "code",
   "execution_count": 5,
   "id": "1fcb6902-3352-4749-8635-52bc07d3b9cb",
   "metadata": {},
   "outputs": [
    {
     "name": "stderr",
     "output_type": "stream",
     "text": [
      "Computing METIS partitioning...\n",
      "Done!\n"
     ]
    }
   ],
   "source": [
    "from torch_geometric.loader import ClusterData, ClusterLoader\n",
    "torch.manual_seed(42)\n",
    "cluster_data = ClusterData(data, num_parts=128)  # 1. Create subgraphs.\n",
    "train_loader = ClusterLoader(cluster_data, batch_size=32, shuffle=True)  # 2. Stochastic partioning scheme."
   ]
  },
  {
   "cell_type": "code",
   "execution_count": 9,
   "id": "fdf81657-67ab-46fd-8456-7c9a0cb11740",
   "metadata": {},
   "outputs": [
    {
     "name": "stdout",
     "output_type": "stream",
     "text": [
      "Step 1:\n",
      "=======\n",
      "Number of graphs in the current batch: 4933\n",
      "Data(x=[4933, 500], y=[4933], train_mask=[4933], val_mask=[4933], test_mask=[4933], edge_index=[2, 16746])\n",
      "\n",
      "Step 2:\n",
      "=======\n",
      "Number of graphs in the current batch: 4923\n",
      "Data(x=[4923, 500], y=[4923], train_mask=[4923], val_mask=[4923], test_mask=[4923], edge_index=[2, 15282])\n",
      "\n",
      "Step 3:\n",
      "=======\n",
      "Number of graphs in the current batch: 4928\n",
      "Data(x=[4928, 500], y=[4928], train_mask=[4928], val_mask=[4928], test_mask=[4928], edge_index=[2, 16306])\n",
      "\n",
      "Step 4:\n",
      "=======\n",
      "Number of graphs in the current batch: 4933\n",
      "Data(x=[4933, 500], y=[4933], train_mask=[4933], val_mask=[4933], test_mask=[4933], edge_index=[2, 18604])\n",
      "\n"
     ]
    }
   ],
   "source": [
    "for step, data in enumerate(train_loader):\n",
    "    print(f'Step {step + 1}:')\n",
    "    print('=======')\n",
    "    print(f'Number of graphs in the current batch: {data.num_nodes}')\n",
    "    print(data)\n",
    "    print()"
   ]
  },
  {
   "cell_type": "code",
   "execution_count": 15,
   "id": "a81abd94-542f-4103-a928-3ef13f9a3f6f",
   "metadata": {},
   "outputs": [
    {
     "name": "stdout",
     "output_type": "stream",
     "text": [
      "GCN(\n",
      "  (conv1): GCNConv(500, 16)\n",
      "  (conv2): GCNConv(16, 3)\n",
      ")\n"
     ]
    }
   ],
   "source": [
    "import torch.nn.functional as F\n",
    "from torch_geometric.nn import GCNConv\n",
    "\n",
    "class GCN(torch.nn.Module):\n",
    "    def __init__(self, hidden_channels):\n",
    "        super(GCN, self).__init__()\n",
    "        torch.manual_seed(12345)\n",
    "        self.conv1 = GCNConv(data.num_node_features, hidden_channels)\n",
    "        self.conv2 = GCNConv(hidden_channels, dataset.num_classes)\n",
    "\n",
    "    def forward(self, x, edge_index):\n",
    "        x = self.conv1(x, edge_index)\n",
    "        x = x.relu()\n",
    "        x = F.dropout(x, p=0.5, training=self.training)\n",
    "        x = self.conv2(x, edge_index)\n",
    "        return x\n",
    "\n",
    "model = GCN(hidden_channels=16)\n",
    "print(model)"
   ]
  },
  {
   "cell_type": "code",
   "execution_count": 16,
   "id": "692c76e3-70db-482e-8b8a-de376cda0541",
   "metadata": {},
   "outputs": [],
   "source": [
    "model = GCN(hidden_channels=16)\n",
    "optimizer = torch.optim.Adam(model.parameters(), lr=0.01, weight_decay=5e-4)\n",
    "criterion = torch.nn.CrossEntropyLoss()\n",
    "\n",
    "def train():\n",
    "      model.train()\n",
    "\n",
    "      for sub_data in train_loader:  # Iterate over each mini-batch.\n",
    "          out = model(sub_data.x, sub_data.edge_index)  # Perform a single forward pass.\n",
    "          loss = criterion(out[sub_data.train_mask], sub_data.y[sub_data.train_mask])  # Compute the loss solely based on the training nodes.\n",
    "          loss.backward()  # Derive gradients.\n",
    "          optimizer.step()  # Update parameters based on gradients.\n",
    "          optimizer.zero_grad()  # Clear gradients.\n",
    "\n",
    "def test():\n",
    "\n",
    "    model.eval()\n",
    "    out = model(data.x, data.edge_index)\n",
    "    pred = out.argmax(dim=1)  # Use the class with highest probability.\n",
    "    accs = []\n",
    "\n",
    "    for mask in [data.train_mask, data.val_mask, data.test_mask]:\n",
    "        correct = pred[mask] == data.y[mask]  # Check against ground-truth labels.\n",
    "        accs.append(int(correct.sum()) / int(mask.sum()))  # Derive ratio of correct predictions.\n",
    "\n",
    "    return accs "
   ]
  },
  {
   "cell_type": "code",
   "execution_count": 17,
   "id": "e3092cde-86a9-409c-9d99-625308625fa9",
   "metadata": {},
   "outputs": [
    {
     "name": "stdout",
     "output_type": "stream",
     "text": [
      "Epoch: 001, Train: 0.2381, Val Acc: 0.3821, Test Acc: 0.3647\n",
      "Epoch: 002, Train: 0.6190, Val Acc: 0.5122, Test Acc: 0.4510\n",
      "Epoch: 003, Train: 0.9048, Val Acc: 0.7642, Test Acc: 0.6706\n",
      "Epoch: 004, Train: 0.9048, Val Acc: 0.7561, Test Acc: 0.6706\n",
      "Epoch: 005, Train: 0.9048, Val Acc: 0.7805, Test Acc: 0.6902\n",
      "Epoch: 006, Train: 0.9048, Val Acc: 0.7724, Test Acc: 0.6667\n",
      "Epoch: 007, Train: 0.9048, Val Acc: 0.7805, Test Acc: 0.6863\n",
      "Epoch: 008, Train: 0.9048, Val Acc: 0.7805, Test Acc: 0.6980\n",
      "Epoch: 009, Train: 0.9524, Val Acc: 0.7967, Test Acc: 0.7255\n",
      "Epoch: 010, Train: 0.9524, Val Acc: 0.8049, Test Acc: 0.7373\n",
      "Epoch: 011, Train: 0.9524, Val Acc: 0.7886, Test Acc: 0.7255\n",
      "Epoch: 012, Train: 0.9524, Val Acc: 0.7967, Test Acc: 0.7216\n",
      "Epoch: 013, Train: 0.9524, Val Acc: 0.7967, Test Acc: 0.7373\n",
      "Epoch: 014, Train: 0.9524, Val Acc: 0.7967, Test Acc: 0.7333\n",
      "Epoch: 015, Train: 0.9524, Val Acc: 0.8130, Test Acc: 0.7333\n",
      "Epoch: 016, Train: 0.9524, Val Acc: 0.8455, Test Acc: 0.7569\n",
      "Epoch: 017, Train: 0.9524, Val Acc: 0.8618, Test Acc: 0.7725\n",
      "Epoch: 018, Train: 0.9524, Val Acc: 0.8618, Test Acc: 0.7686\n",
      "Epoch: 019, Train: 0.9524, Val Acc: 0.8699, Test Acc: 0.7569\n",
      "Epoch: 020, Train: 0.9524, Val Acc: 0.8699, Test Acc: 0.7490\n",
      "Epoch: 021, Train: 0.9524, Val Acc: 0.8618, Test Acc: 0.7569\n",
      "Epoch: 022, Train: 0.9524, Val Acc: 0.8618, Test Acc: 0.7529\n",
      "Epoch: 023, Train: 0.9524, Val Acc: 0.8780, Test Acc: 0.7686\n",
      "Epoch: 024, Train: 0.9524, Val Acc: 0.8699, Test Acc: 0.7686\n",
      "Epoch: 025, Train: 0.9524, Val Acc: 0.8699, Test Acc: 0.7882\n",
      "Epoch: 026, Train: 0.9524, Val Acc: 0.8780, Test Acc: 0.7765\n",
      "Epoch: 027, Train: 0.9524, Val Acc: 0.8780, Test Acc: 0.7725\n",
      "Epoch: 028, Train: 0.9524, Val Acc: 0.8780, Test Acc: 0.7882\n",
      "Epoch: 029, Train: 0.9524, Val Acc: 0.8780, Test Acc: 0.7765\n",
      "Epoch: 030, Train: 0.9524, Val Acc: 0.8862, Test Acc: 0.7765\n",
      "Epoch: 031, Train: 0.9524, Val Acc: 0.8943, Test Acc: 0.7765\n",
      "Epoch: 032, Train: 0.9524, Val Acc: 0.8780, Test Acc: 0.7922\n",
      "Epoch: 033, Train: 0.9524, Val Acc: 0.8780, Test Acc: 0.7922\n",
      "Epoch: 034, Train: 0.9524, Val Acc: 0.8862, Test Acc: 0.7961\n",
      "Epoch: 035, Train: 0.9524, Val Acc: 0.8862, Test Acc: 0.7961\n",
      "Epoch: 036, Train: 0.9524, Val Acc: 0.8780, Test Acc: 0.7922\n",
      "Epoch: 037, Train: 0.9524, Val Acc: 0.8699, Test Acc: 0.7882\n",
      "Epoch: 038, Train: 0.9524, Val Acc: 0.8862, Test Acc: 0.8078\n",
      "Epoch: 039, Train: 0.9524, Val Acc: 0.8780, Test Acc: 0.8039\n",
      "Epoch: 040, Train: 0.9524, Val Acc: 0.8618, Test Acc: 0.7922\n",
      "Epoch: 041, Train: 0.9524, Val Acc: 0.8618, Test Acc: 0.7843\n",
      "Epoch: 042, Train: 0.9524, Val Acc: 0.8699, Test Acc: 0.7961\n",
      "Epoch: 043, Train: 0.9524, Val Acc: 0.8943, Test Acc: 0.7961\n",
      "Epoch: 044, Train: 0.9524, Val Acc: 0.8862, Test Acc: 0.8000\n",
      "Epoch: 045, Train: 1.0000, Val Acc: 0.8537, Test Acc: 0.7961\n",
      "Epoch: 046, Train: 1.0000, Val Acc: 0.8618, Test Acc: 0.8000\n",
      "Epoch: 047, Train: 1.0000, Val Acc: 0.8455, Test Acc: 0.7882\n",
      "Epoch: 048, Train: 1.0000, Val Acc: 0.8618, Test Acc: 0.7922\n",
      "Epoch: 049, Train: 1.0000, Val Acc: 0.8780, Test Acc: 0.7922\n",
      "Epoch: 050, Train: 1.0000, Val Acc: 0.8537, Test Acc: 0.7882\n"
     ]
    }
   ],
   "source": [
    "for epoch in range(1, 51):\n",
    "    loss = train()\n",
    "    train_acc, val_acc, test_acc = test()\n",
    "    print(f'Epoch: {epoch:03d}, Train: {train_acc:.4f}, Val Acc: {val_acc:.4f}, Test Acc: {test_acc:.4f}')"
   ]
  }
 ],
 "metadata": {
  "kernelspec": {
   "display_name": "Python 3 (ipykernel)",
   "language": "python",
   "name": "python3"
  },
  "language_info": {
   "codemirror_mode": {
    "name": "ipython",
    "version": 3
   },
   "file_extension": ".py",
   "mimetype": "text/x-python",
   "name": "python",
   "nbconvert_exporter": "python",
   "pygments_lexer": "ipython3",
   "version": "3.10.12"
  }
 },
 "nbformat": 4,
 "nbformat_minor": 5
}
